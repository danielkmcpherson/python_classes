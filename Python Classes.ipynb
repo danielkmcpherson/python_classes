{
 "cells": [
  {
   "cell_type": "markdown",
   "id": "af31a305",
   "metadata": {},
   "source": [
    "# Cookies 'n' Code: Python Classes\n",
    "\n",
    "## What and why are classes?\n",
    "\n",
    "A class in python is a template for creating objects. They allow us to bundle data and functionality to allow us to create intuitive, readable code. Writing our code to use classes can make creating and working with larger projects more manageable and easier to collaborate on. To get a good understanding of what a class is and how it works it makes sense to start creating simple classes of our own.\n",
    "\n",
    "## The Dog Class\n",
    "\n",
    "Let's jump right in and make our first Python class! We're going to create a class that represents a dog and give it the ability to sit and roll over."
   ]
  },
  {
   "cell_type": "code",
   "execution_count": null,
   "id": "040c6725",
   "metadata": {},
   "outputs": [],
   "source": [
    "class Dog:\n",
    "    \"\"\"A simple attempt to model dogs\"\"\"\n",
    "    \n",
    "    def __init__(self, name, age):\n",
    "        \"\"\"Initialize the name and age for all the cute dogs we'll create\"\"\"\n",
    "        self.name = name\n",
    "        self.age = age\n",
    "        \n",
    "    def sit(self):\n",
    "        \"\"\"Simulate a dog sitting in response to a command\"\"\"\n",
    "        print(f\"{self.name} is now sitting.\")\n",
    "        \n",
    "    def roll_over(self):\n",
    "        \"\"\"Simulate a dog rolling over in response to a command\"\"\"\n",
    "        print(f\"{self.name} rolled over! What a good dog!\")"
   ]
  },
  {
   "cell_type": "markdown",
   "id": "14db58df",
   "metadata": {},
   "source": [
    "## Parts of a class definition\n",
    "\n",
    "### Attributes:\n",
    "\n",
    "We assigned values to two variables, name and age based on the parameters we'll supply when we create an instance of our Dog class. In our class definition we used the prefix self when we defined these variables, this means these variables will be available to every method in the class, and we'll also be able to access these variables through any instance created from this class. Variables that are defined and are accessible in this way are called attributes.\n",
    "\n",
    "### Methods:\n",
    "\n",
    "A function that's a part of a class is called a method. All our existing knowledge about functions applies to methods. When we define them in our class we have to include the self parameter and it must come first. When we call a method, python automatically passes the self parameter, so we never need to include it in our method calls, but we do need it in our definitions. This parameter references the particular instance of a class we're working with, and gives the instance access to the attributes and methods of the class. We defined two methods in our Dog class, sit() and roll_over().\n",
    "\n",
    "### The \\_\\_init\\_\\_ Method:\n",
    "\n",
    "The \\_\\_init\\_\\_ method that we defined at the very start of our class definition is a special method that python will run automatically whenever we create an instance of our Dog class. We first give it the self parameter like all our other functions, and then all the other parameters we want to pass through to our class. It has the double underscores at the start and end to \n",
    "stop it from conflicting with your other method names and you had better include them or it wont run automatically when you create an instance of your class."
   ]
  },
  {
   "cell_type": "markdown",
   "id": "524cb80e",
   "metadata": {},
   "source": [
    "## Instantiation\n",
    "\n",
    "We use classes in python by creating specific <em>instances</em> of a class we've defined. The class definition we created above is basically a set of instructions telling python how to make individual instances representing specific dogs. We can make an instance representing a specific dog like this:"
   ]
  },
  {
   "cell_type": "code",
   "execution_count": null,
   "id": "23175395",
   "metadata": {},
   "outputs": [],
   "source": [
    "my_dog = Dog('Peanut', 6)"
   ]
  },
  {
   "cell_type": "markdown",
   "id": "51df642f",
   "metadata": {},
   "source": [
    "We can access the attributes of our specific dog using dot notation:"
   ]
  },
  {
   "cell_type": "code",
   "execution_count": null,
   "id": "4875b46a",
   "metadata": {},
   "outputs": [],
   "source": [
    "print(f\"My dogs name is {my_dog.name}.\")\n",
    "print(f\"My dog is {my_dog.age} years old.\")"
   ]
  },
  {
   "cell_type": "markdown",
   "id": "430113d6",
   "metadata": {},
   "source": [
    "And we can call the methods we defined for this class"
   ]
  },
  {
   "cell_type": "code",
   "execution_count": null,
   "id": "02984cde",
   "metadata": {},
   "outputs": [],
   "source": [
    "my_dog.sit()\n",
    "my_dog.roll_over()"
   ]
  },
  {
   "cell_type": "markdown",
   "id": "8b011018",
   "metadata": {},
   "source": [
    "my_dog is just one instance of the dog class and we can create as many instances of this class as we want, as long as they have different variable names."
   ]
  },
  {
   "cell_type": "code",
   "execution_count": null,
   "id": "7009e846",
   "metadata": {},
   "outputs": [],
   "source": [
    "your_dog = Dog('Tony', 4)\n",
    "print(f\"My dogs name is {my_dog.name}.\")\n",
    "print(f\"{my_dog.name} is {my_dog.age} years old.\")\n",
    "my_dog.sit()\n",
    "print(f\"Your dogs name is {your_dog.name}.\")\n",
    "print(f\"{your_dog.name} is {your_dog.age} years old.\")\n",
    "your_dog.sit()"
   ]
  },
  {
   "cell_type": "markdown",
   "id": "5176e140",
   "metadata": {},
   "source": [
    "## Setting and modifying attributes\n",
    "\n",
    "Let's have a look now at classes in a bit more detail. We'll create a new class that we'll work with from here on out"
   ]
  },
  {
   "cell_type": "code",
   "execution_count": null,
   "id": "82544672",
   "metadata": {},
   "outputs": [],
   "source": [
    "class Car:\n",
    "    \"\"\"A simple attempt to represent a car.\"\"\"\n",
    "    \n",
    "    def __init__(self, make, model, year):\n",
    "        \"\"\"Initialize attrbiutes to describe a car\"\"\"\n",
    "        self.make = make\n",
    "        self.model = model\n",
    "        self.year = year\n",
    "    \n",
    "    def get_descriptive_name(self):\n",
    "        \"\"\"Return a neatly formatted descriptive name\"\"\"\n",
    "        long_name = f\"{self.year} {self.make} {self.model}\"\n",
    "        return long_name.title()"
   ]
  },
  {
   "cell_type": "markdown",
   "id": "b7d0cd19",
   "metadata": {},
   "source": [
    "We've defined a class representing a car, and given it a method for returning a string containing a nicely formatted description of the car. We've created some attributes based on values we'll give when we create an instance of the car class, like so:"
   ]
  },
  {
   "cell_type": "code",
   "execution_count": 31,
   "id": "8adf22e5",
   "metadata": {},
   "outputs": [
    {
     "name": "stdout",
     "output_type": "stream",
     "text": [
      "2019 Audi A4\n"
     ]
    }
   ],
   "source": [
    "my_new_car = Car('Audi', 'a4', 2019)\n",
    "print(my_new_car.get_descriptive_name())"
   ]
  },
  {
   "cell_type": "markdown",
   "id": "1a7d14f4",
   "metadata": {},
   "source": [
    "This class is pretty boring right now. Let's add an attribute that changes over time to track how many k's the car has done"
   ]
  },
  {
   "cell_type": "code",
   "execution_count": 32,
   "id": "5d1eebdf",
   "metadata": {},
   "outputs": [],
   "source": [
    "class Car:\n",
    "    \"\"\"A simple attempt to represent a car.\"\"\"\n",
    "    \n",
    "    def __init__(self, make, model, year):\n",
    "        \"\"\"Initialize attrbiutes to describe a car\"\"\"\n",
    "        self.make = make\n",
    "        self.model = model\n",
    "        self.year = year\n",
    "        self.odometer_reading = 0\n",
    "    \n",
    "    def get_descriptive_name(self):\n",
    "        \"\"\"Return a neatly formatted descriptive name\"\"\"\n",
    "        long_name = f\"{self.year} {self.make} {self.model}\"\n",
    "        return long_name.title()\n",
    "    \n",
    "    def read_odometer(self):\n",
    "        \"\"\"Print a statement showing the car's kms.\"\"\"\n",
    "        print(f\"This car has {self.odometer_reading} km on it.\")"
   ]
  },
  {
   "cell_type": "code",
   "execution_count": 33,
   "id": "96b0aa3c",
   "metadata": {},
   "outputs": [
    {
     "name": "stdout",
     "output_type": "stream",
     "text": [
      "2019 Audi A4\n",
      "This car has 0 km on it.\n",
      "None\n"
     ]
    }
   ],
   "source": [
    "my_new_car = Car('Audi', 'a4', 2019)\n",
    "print(my_new_car.get_descriptive_name())\n",
    "print(my_new_car.read_odometer())"
   ]
  },
  {
   "cell_type": "markdown",
   "id": "5664323e",
   "metadata": {},
   "source": [
    "We can define the odometer_reading attribute without passing it as a parameter when we create our instance of the Car class. \n",
    "\n",
    "We can also update the values of the attributes for our instance once we've created it, and the simplest way to do so is just directly:"
   ]
  },
  {
   "cell_type": "code",
   "execution_count": 34,
   "id": "abce0847",
   "metadata": {},
   "outputs": [
    {
     "name": "stdout",
     "output_type": "stream",
     "text": [
      "This car has 23 km on it.\n"
     ]
    }
   ],
   "source": [
    "my_new_car.odometer_reading = 23\n",
    "my_new_car.read_odometer()"
   ]
  },
  {
   "cell_type": "markdown",
   "id": "0826ca73",
   "metadata": {},
   "source": [
    "This is cool and all, but sometimes we might want to write a method that updates the value of an attribute for us. The simplest way to do this is to just write a method that does exactly what we just did. Let's update our Car class again."
   ]
  },
  {
   "cell_type": "code",
   "execution_count": 35,
   "id": "23736ddc",
   "metadata": {},
   "outputs": [],
   "source": [
    "class Car:\n",
    "    \"\"\"A simple attempt to represent a car.\"\"\"\n",
    "    \n",
    "    def __init__(self, make, model, year):\n",
    "        \"\"\"Initialize attrbiutes to describe a car\"\"\"\n",
    "        self.make = make\n",
    "        self.model = model\n",
    "        self.year = year\n",
    "        self.odometer_reading = 0\n",
    "    \n",
    "    def get_descriptive_name(self):\n",
    "        \"\"\"Return a neatly formatted descriptive name\"\"\"\n",
    "        long_name = f\"{self.year} {self.make} {self.model}\"\n",
    "        return long_name.title()\n",
    "    \n",
    "    def read_odometer(self):\n",
    "        \"\"\"Print a statement showing the car's kms.\"\"\"\n",
    "        print(f\"This car has {self.odometer_reading} km on it.\")\n",
    "        \n",
    "    def update_odometer(self, kms):\n",
    "        \"\"\"Set the odometer reading to the given value\"\"\"\n",
    "        self.odometer_reading = kms"
   ]
  },
  {
   "cell_type": "code",
   "execution_count": 36,
   "id": "36d2ec25",
   "metadata": {},
   "outputs": [
    {
     "name": "stdout",
     "output_type": "stream",
     "text": [
      "This car has 0 km on it.\n",
      "This car has 100 km on it.\n"
     ]
    }
   ],
   "source": [
    "my_new_car = Car('Audi', 'a4', 2019)\n",
    "my_new_car.read_odometer()\n",
    "my_new_car.update_odometer(100)\n",
    "my_new_car.read_odometer()"
   ]
  },
  {
   "cell_type": "markdown",
   "id": "3a27f222",
   "metadata": {},
   "source": [
    "We can add a little more functionality here and get some benefits from using a method instead of directly updating the value, let's add some logic to prevent people from rolling back the odometer"
   ]
  },
  {
   "cell_type": "code",
   "execution_count": 37,
   "id": "56840049",
   "metadata": {},
   "outputs": [],
   "source": [
    "class Car:\n",
    "    \"\"\"A simple attempt to represent a car.\"\"\"\n",
    "    \n",
    "    def __init__(self, make, model, year):\n",
    "        \"\"\"Initialize attrbiutes to describe a car\"\"\"\n",
    "        self.make = make\n",
    "        self.model = model\n",
    "        self.year = year\n",
    "        self.odometer_reading = 0\n",
    "    \n",
    "    def get_descriptive_name(self):\n",
    "        \"\"\"Return a neatly formatted descriptive name\"\"\"\n",
    "        long_name = f\"{self.year} {self.make} {self.model}\"\n",
    "        return long_name.title()\n",
    "    \n",
    "    def read_odometer(self):\n",
    "        \"\"\"Print a statement showing the car's kms.\"\"\"\n",
    "        print(f\"This car has {self.odometer_reading} km on it.\")\n",
    "        \n",
    "    def update_odometer(self, kms):\n",
    "        \"\"\"\n",
    "        Set the odometer reading to the given value.\n",
    "        Reject the change if it attempts to roll the odometer back\n",
    "        \"\"\"\n",
    "        if kms >= self.odometer_reading:\n",
    "            self.odometer_reading = kms\n",
    "        else:\n",
    "            print(\"You can't roll the odometer back you crook!\")"
   ]
  },
  {
   "cell_type": "code",
   "execution_count": 38,
   "id": "314fc10c",
   "metadata": {},
   "outputs": [
    {
     "name": "stdout",
     "output_type": "stream",
     "text": [
      "This car has 0 km on it.\n",
      "This car has 100 km on it.\n",
      "You can't roll the odometer back you crook!\n",
      "This car has 100 km on it.\n"
     ]
    }
   ],
   "source": [
    "my_new_car = Car('Audi', 'a4', 2019)\n",
    "my_new_car.read_odometer()\n",
    "my_new_car.update_odometer(100)\n",
    "my_new_car.read_odometer()\n",
    "my_new_car.update_odometer(50)\n",
    "my_new_car.read_odometer()"
   ]
  },
  {
   "cell_type": "markdown",
   "id": "7143d096",
   "metadata": {},
   "source": [
    "Just setting a vlue here might be not the most useful thing, we could also update the value just by incrementing it."
   ]
  },
  {
   "cell_type": "code",
   "execution_count": 39,
   "id": "dbd73766",
   "metadata": {},
   "outputs": [],
   "source": [
    "class Car:\n",
    "    \"\"\"A simple attempt to represent a car.\"\"\"\n",
    "    \n",
    "    def __init__(self, make, model, year):\n",
    "        \"\"\"Initialize attrbiutes to describe a car\"\"\"\n",
    "        self.make = make\n",
    "        self.model = model\n",
    "        self.year = year\n",
    "        self.odometer_reading = 0\n",
    "    \n",
    "    def get_descriptive_name(self):\n",
    "        \"\"\"Return a neatly formatted descriptive name\"\"\"\n",
    "        long_name = f\"{self.year} {self.make} {self.model}\"\n",
    "        return long_name.title()\n",
    "    \n",
    "    def read_odometer(self):\n",
    "        \"\"\"Print a statement showing the car's kms.\"\"\"\n",
    "        print(f\"This car has {self.odometer_reading} km on it.\")\n",
    "        \n",
    "    def update_odometer(self, kms):\n",
    "        \"\"\"\n",
    "        Set the odometer reading to the given value.\n",
    "        Reject the change if it attempts to roll the odometer back\n",
    "        \"\"\"\n",
    "        if kms >= self.odometer_reading:\n",
    "            self.odometer_reading = kms\n",
    "        else:\n",
    "            print(\"You can't roll the odometer back you crook!\")\n",
    "            \n",
    "    def increment_odometer(self, kms):\n",
    "        \"\"\"Add the given amount to the odometer reading.\"\"\"\n",
    "        if kms >= 0:\n",
    "            self.odometer_reading += kms\n",
    "        else:\n",
    "            print(\"You can't roll the odometer back you crook!\")\n",
    "        "
   ]
  },
  {
   "cell_type": "code",
   "execution_count": 40,
   "id": "055b69af",
   "metadata": {},
   "outputs": [
    {
     "name": "stdout",
     "output_type": "stream",
     "text": [
      "This car has 0 km on it.\n",
      "This car has 100 km on it.\n",
      "You can't roll the odometer back you crook!\n",
      "This car has 100 km on it.\n"
     ]
    }
   ],
   "source": [
    "my_new_car = Car('Audi', 'a4', 2019)\n",
    "my_new_car.read_odometer()\n",
    "my_new_car.increment_odometer(100)\n",
    "my_new_car.read_odometer()\n",
    "my_new_car.increment_odometer(-100)\n",
    "my_new_car.read_odometer()"
   ]
  },
  {
   "cell_type": "markdown",
   "id": "1ccff690",
   "metadata": {},
   "source": [
    "## Inheritance\n",
    "\n",
    "We don't have to start from scratch when we create a class. If the class we want to create is a specialised version of an existing class we can use inheritance to create a <em>child class</em> from the existing <em>parent class</em>. The child class takes on the attributes of the parent class, but we can also define new ones.\n",
    "\n",
    "Let's create a new class based on the Car class to describe an electric car. We'll start very simply and just create a class that does everything the car class does"
   ]
  },
  {
   "cell_type": "code",
   "execution_count": 47,
   "id": "e5a4d52d",
   "metadata": {},
   "outputs": [],
   "source": [
    "class ElectricCar(Car):\n",
    "    \"\"\"Represent aspects of a car specific to electric vehicles.\"\"\"\n",
    "    \n",
    "    def __init__(self, make, model, year):\n",
    "        \"\"\"Initialise attributes of the parent class.\"\"\"\n",
    "        super().__init__(make, model, year)"
   ]
  },
  {
   "cell_type": "markdown",
   "id": "06fe23e5",
   "metadata": {},
   "source": [
    "We include the name of the parent class in the parentheses in the definition of our child class. Our \\_\\_init\\_\\_ method takes the parameters we require from the parent class (and begins with the self parameter) and uses the super() function, which is a special python function that allows us to call a method specifically from the parent class, to pass them to the \\_\\_init\\_\\_ method from the parent class. This gives the ElectricCar class all the attributes and methods of the parent Car class.\n",
    "\n",
    "Our ElectricCar class doesn't do anything interesting yet, but we can make certain our inheritance is working correctly"
   ]
  },
  {
   "cell_type": "code",
   "execution_count": 48,
   "id": "6ee8411d",
   "metadata": {},
   "outputs": [
    {
     "name": "stdout",
     "output_type": "stream",
     "text": [
      "2023 Chevrolet Bolt Ev\n"
     ]
    }
   ],
   "source": [
    "my_ev = ElectricCar('Chevrolet', 'Bolt EV', 2023)\n",
    "print(my_ev.get_descriptive_name())"
   ]
  },
  {
   "cell_type": "markdown",
   "id": "05c36157",
   "metadata": {},
   "source": [
    "We can expand our child class a little bit here, and add some attributes and methods unique to it"
   ]
  },
  {
   "cell_type": "code",
   "execution_count": 50,
   "id": "7749d29e",
   "metadata": {},
   "outputs": [],
   "source": [
    "class ElectricCar(Car):\n",
    "    \"\"\"Represent aspects of a car specific to electric vehicles.\"\"\"\n",
    "    \n",
    "    def __init__(self, make, model, year):\n",
    "        \"\"\"\n",
    "        Initialise attributes of the parent class.\n",
    "        Then initialise attributes specific to an electric car.\"\"\"\n",
    "        super().__init__(make, model, year)\n",
    "        self.battery_size = 75\n",
    "        \n",
    "    def describe_battery(self):\n",
    "        \"\"\"Print a statement describing the battery size.\"\"\"\n",
    "        print(f\"This car has a {self.battery_size}-kWh battery.\")"
   ]
  },
  {
   "cell_type": "code",
   "execution_count": 51,
   "id": "a679203a",
   "metadata": {},
   "outputs": [
    {
     "name": "stdout",
     "output_type": "stream",
     "text": [
      "2023 Chevrolet Bolt Ev\n",
      "This car has a 75-kWh battery.\n"
     ]
    }
   ],
   "source": [
    "my_ev = ElectricCar('Chevrolet', 'Bolt EV', 2023)\n",
    "print(my_ev.get_descriptive_name())\n",
    "my_ev.describe_battery()"
   ]
  },
  {
   "cell_type": "markdown",
   "id": "1411ce96",
   "metadata": {},
   "source": [
    "This works very similarly to our parent class, we define a new attribute battery_size and set its initial value to 75. We also add a method for printing out information about this battery. The method and attribute we've created here will be available to all instances of the ElectricCar class but not the Car class.\n",
    "\n",
    "We can also override methods or attributes from the parent class, for example if they don't fit what we're modelling with the child class. To do so we just define a method in the child class with the same name as the method from the parent class. Let's update our car class with a method that might be relevant to cars, but not electric cars."
   ]
  },
  {
   "cell_type": "code",
   "execution_count": 52,
   "id": "3495f90c",
   "metadata": {},
   "outputs": [],
   "source": [
    "class Car:\n",
    "    \"\"\"A simple attempt to represent a car.\"\"\"\n",
    "    \n",
    "    def __init__(self, make, model, year):\n",
    "        \"\"\"Initialize attrbiutes to describe a car\"\"\"\n",
    "        self.make = make\n",
    "        self.model = model\n",
    "        self.year = year\n",
    "        self.odometer_reading = 0\n",
    "    \n",
    "    def get_descriptive_name(self):\n",
    "        \"\"\"Return a neatly formatted descriptive name\"\"\"\n",
    "        long_name = f\"{self.year} {self.make} {self.model}\"\n",
    "        return long_name.title()\n",
    "    \n",
    "    def read_odometer(self):\n",
    "        \"\"\"Print a statement showing the car's kms.\"\"\"\n",
    "        print(f\"This car has {self.odometer_reading} km on it.\")\n",
    "        \n",
    "    def update_odometer(self, kms):\n",
    "        \"\"\"\n",
    "        Set the odometer reading to the given value.\n",
    "        Reject the change if it attempts to roll the odometer back\n",
    "        \"\"\"\n",
    "        if kms >= self.odometer_reading:\n",
    "            self.odometer_reading = kms\n",
    "        else:\n",
    "            print(\"You can't roll the odometer back you crook!\")\n",
    "            \n",
    "    def increment_odometer(self, kms):\n",
    "        \"\"\"Add the given amount to the odometer reading.\"\"\"\n",
    "        if kms >= 0:\n",
    "            self.odometer_reading += kms\n",
    "        else:\n",
    "            print(\"You can't roll the odometer back you crook!\")\n",
    "            \n",
    "    def fill_gas_tank(self):\n",
    "        \"\"\"Fill up that tank\"\"\"\n",
    "        print(\"Excellent stuff that's exactly what you should do with your car!\")"
   ]
  },
  {
   "cell_type": "code",
   "execution_count": 53,
   "id": "9c7d4f7b",
   "metadata": {},
   "outputs": [
    {
     "name": "stdout",
     "output_type": "stream",
     "text": [
      "Excellent stuff that's exactly what you should do with your car!\n"
     ]
    }
   ],
   "source": [
    "my_new_car = Car('Audi', 'a4', 2019)\n",
    "my_new_car.fill_gas_tank()"
   ]
  },
  {
   "cell_type": "markdown",
   "id": "42014152",
   "metadata": {},
   "source": [
    "And we can update our ElectricCar class to override this now useless method"
   ]
  },
  {
   "cell_type": "code",
   "execution_count": 54,
   "id": "b31ce345",
   "metadata": {},
   "outputs": [],
   "source": [
    "class ElectricCar(Car):\n",
    "    \"\"\"Represent aspects of a car specific to electric vehicles.\"\"\"\n",
    "    \n",
    "    def __init__(self, make, model, year):\n",
    "        \"\"\"\n",
    "        Initialise attributes of the parent class.\n",
    "        Then initialise attributes specific to an electric car.\"\"\"\n",
    "        super().__init__(make, model, year)\n",
    "        self.battery_size = 75\n",
    "        \n",
    "    def describe_battery(self):\n",
    "        \"\"\"Print a statement describing the battery size.\"\"\"\n",
    "        print(f\"This car has a {self.battery_size}-kWh battery.\")\n",
    "        \n",
    "    def fill_gas_tank(self):\n",
    "        \"\"\"Update method from parent class so we don't put gas in our EV.\"\"\"\n",
    "        print(\"This car doesn't have a gas tank you goof!\")"
   ]
  },
  {
   "cell_type": "code",
   "execution_count": 55,
   "id": "cea687e6",
   "metadata": {},
   "outputs": [
    {
     "name": "stdout",
     "output_type": "stream",
     "text": [
      "This car doesn't have a gas tank you goof!\n"
     ]
    }
   ],
   "source": [
    "my_ev = ElectricCar('Chevrolet', 'Bolt EV', 2023)\n",
    "my_ev.fill_gas_tank()"
   ]
  },
  {
   "cell_type": "markdown",
   "id": "a98d1f93",
   "metadata": {},
   "source": [
    "## Instances as Attributes\n",
    "\n",
    "When we start modelling things with our classes we can reach a point where we're adding more and more detail to a class and getting incredibly bloated lists of attributes and methods. In these cases we can consider whether a part of our class could perhaps be written as a separate class, allowing us to break one giant class into several smaller classes that work together.\n",
    "\n",
    "In the case of our ElectricCar class we might, for example want to include lots of description of the battery. We can instead take a second, and create a new class to hold all the methods and attributes for the battery"
   ]
  },
  {
   "cell_type": "code",
   "execution_count": 57,
   "id": "145043b3",
   "metadata": {},
   "outputs": [],
   "source": [
    "class Battery:\n",
    "    \"\"\"A simple attempt to model a battery for an electric car.\"\"\"\n",
    "    \n",
    "    def __init__(self, battery_size=75):\n",
    "        \"\"\"Initialise the battery attributes.\"\"\"\n",
    "        self.battery_size = battery_size\n",
    "        \n",
    "    def describe_battery(self):\n",
    "        \"\"\"Print a statement describing the battery size.\"\"\"\n",
    "        print(f\"This car has a {self.battery_size}-kWh battery.\")"
   ]
  },
  {
   "cell_type": "markdown",
   "id": "c0676c4d",
   "metadata": {},
   "source": [
    "We've defined a new Battery class in the exact same way we're used to. For our battery_size attribute, we've set a default value of 75, meaning this parameter is now optional. If it isn't provided, the default value will be adopted.\n",
    "\n",
    "Now we can update our ElectricCar class to use this new Battery class"
   ]
  },
  {
   "cell_type": "code",
   "execution_count": 58,
   "id": "1cfb0b8c",
   "metadata": {},
   "outputs": [],
   "source": [
    "class ElectricCar(Car):\n",
    "    \"\"\"Represent aspects of a car specific to electric vehicles.\"\"\"\n",
    "    \n",
    "    def __init__(self, make, model, year):\n",
    "        \"\"\"\n",
    "        Initialise attributes of the parent class.\n",
    "        Then initialise attributes specific to an electric car.\"\"\"\n",
    "        super().__init__(make, model, year)\n",
    "        self.battery = Battery()\n",
    "        \n",
    "    def fill_gas_tank(self):\n",
    "        \"\"\"Update method from parent class so we don't put gas in our EV.\"\"\"\n",
    "        print(\"This car doesn't have a gas tank you goof!\")"
   ]
  },
  {
   "cell_type": "markdown",
   "id": "90bc7479",
   "metadata": {},
   "source": [
    "We've removed the describe_battery method and the battery_size attribute from our previous ElectricCar class definition and added a new attribute called battery. In this line we create a new instance of the Battery class and assign it to the battery attribute of our car. To access the methods and attributes specific to the battery, we now need to work through the battery attribute"
   ]
  },
  {
   "cell_type": "code",
   "execution_count": 60,
   "id": "7d2329f0",
   "metadata": {},
   "outputs": [
    {
     "name": "stdout",
     "output_type": "stream",
     "text": [
      "This car has a 75-kWh battery.\n"
     ]
    }
   ],
   "source": [
    "my_ev = ElectricCar('Chevrolet', 'Bolt EV', 2023)\n",
    "my_ev.battery.describe_battery()"
   ]
  },
  {
   "cell_type": "markdown",
   "id": "3adf287e",
   "metadata": {},
   "source": [
    "We can now describe our battery in as much detail as we want without cluttering our ElectricCar class. Let's add another method to the battery that reports the range of the car based on the battery size:"
   ]
  },
  {
   "cell_type": "code",
   "execution_count": 63,
   "id": "70447046",
   "metadata": {},
   "outputs": [],
   "source": [
    "class Battery:\n",
    "    \"\"\"A simple attempt to model a battery for an electric car.\"\"\"\n",
    "    \n",
    "    def __init__(self, battery_size):\n",
    "        \"\"\"Initialise the battery attributes.\"\"\"\n",
    "        self.battery_size = battery_size\n",
    "        \n",
    "    def describe_battery(self):\n",
    "        \"\"\"Print a statement describing the battery size.\"\"\"\n",
    "        print(f\"This car has a {self.battery_size}-kWh battery.\")\n",
    "        \n",
    "    def get_range(self):\n",
    "        \"\"\"Print a statement about the range this battery provides.\"\"\"\n",
    "        if self.battery_size == 75:\n",
    "            range = 260\n",
    "        elif self.battery_size == 100:\n",
    "            range = 315\n",
    "        print(f\"This car can go about {range} km on a full charge.\")\n",
    "        \n",
    "class ElectricCar(Car):\n",
    "    \"\"\"Represent aspects of a car specific to electric vehicles.\"\"\"\n",
    "    \n",
    "    def __init__(self, make, model, year, battery_size=75):\n",
    "        \"\"\"\n",
    "        Initialise attributes of the parent class.\n",
    "        Then initialise attributes specific to an electric car.\"\"\"\n",
    "        super().__init__(make, model, year)\n",
    "        self.battery = Battery(battery_size)\n",
    "        \n",
    "    def fill_gas_tank(self):\n",
    "        \"\"\"Update method from parent class so we don't put gas in our EV.\"\"\"\n",
    "        print(\"This car doesn't have a gas tank you goof!\")"
   ]
  },
  {
   "cell_type": "code",
   "execution_count": 66,
   "id": "58cd6879",
   "metadata": {},
   "outputs": [
    {
     "name": "stdout",
     "output_type": "stream",
     "text": [
      "This car can go about 260 km on a full charge.\n"
     ]
    }
   ],
   "source": [
    "my_ev = ElectricCar('Chevrolet', 'Bolt EV', 2023)\n",
    "my_ev.battery.get_range()"
   ]
  },
  {
   "cell_type": "markdown",
   "id": "b1b028f5",
   "metadata": {},
   "source": [
    "We've reached a point where when we're modelling things from the real world, we'll have to consider weird stuff like \"is the range a property of the car or the battery?\". There's no right answer! You'll decide in each case what makes things the most efficient, but it's important to realise that you aren't thinking anymore about \"how do I write code in python\" but \"How can I represent the real world in code?\".\n",
    "\n",
    "That's really cool! Enjoy it!"
   ]
  },
  {
   "cell_type": "markdown",
   "id": "29da5fdb",
   "metadata": {},
   "source": [
    "## Importing Classes\n",
    "\n",
    "Let's step down from that cool, higher level thinking to talk about using our classes practically in our coding projects. You might reach a point where you've added so much functionality to your classes that your working file is getting long and cumbersome. To help us out here, we can store our classes in modules and import the classes we need into our main program.\n",
    "\n",
    "We've created a python file car.py with all the methods and attributes of our Car class up above. Since we're writing a module we include a module level docstring in addition to our class definition from above. We can now import the Car class from our car module and create an instance from that class."
   ]
  },
  {
   "cell_type": "code",
   "execution_count": 1,
   "id": "b5c2e5b2",
   "metadata": {},
   "outputs": [
    {
     "name": "stdout",
     "output_type": "stream",
     "text": [
      "2019 Audi A4\n",
      "This car has 23 km on it.\n"
     ]
    }
   ],
   "source": [
    "from car import Car\n",
    "my_new_car = Car('audi', 'a4', 2019)\n",
    "print(my_new_car.get_descriptive_name())\n",
    "my_new_car.odometer_reading = 23\n",
    "my_new_car.read_odometer()"
   ]
  },
  {
   "cell_type": "markdown",
   "id": "56d03a7d",
   "metadata": {},
   "source": [
    "We can include as many classes as we want in a single module, though it's best practice for all the classes in a module to be related somehow. The cars2.py file includes the Car class as well as out Battery and ElectricCar class. We can import the ElectricCar class from this module and create an instance from it"
   ]
  },
  {
   "cell_type": "code",
   "execution_count": 2,
   "id": "0d09dcf5",
   "metadata": {},
   "outputs": [
    {
     "name": "stdout",
     "output_type": "stream",
     "text": [
      "2023 Chevrolet Bolt Ev\n",
      "This car has a 75-kWh battery.\n",
      "This car can go about 260 km on a full charge.\n"
     ]
    }
   ],
   "source": [
    "from cars import ElectricCar\n",
    "\n",
    "my_ev = ElectricCar('Chevrolet', 'Bolt EV', 2023)\n",
    "\n",
    "print(my_ev.get_descriptive_name())\n",
    "my_ev.battery.describe_battery()\n",
    "my_ev.battery.get_range()"
   ]
  },
  {
   "cell_type": "markdown",
   "id": "19c02fe3",
   "metadata": {},
   "source": [
    "This does exactly what our previous code did, but with all the heavy lifting hidden away in our module. \n",
    "\n",
    "We can also import multiple classes from a module:"
   ]
  },
  {
   "cell_type": "code",
   "execution_count": 2,
   "id": "8d5d8171",
   "metadata": {},
   "outputs": [
    {
     "name": "stdout",
     "output_type": "stream",
     "text": [
      "2019 Audi A4\n",
      "2023 Chevrolet Bolt Ev\n"
     ]
    }
   ],
   "source": [
    "from cars import Car, ElectricCar\n",
    "\n",
    "my_car = Car('audi', 'a4', 2019)\n",
    "print(my_car.get_descriptive_name())\n",
    "my_ev = ElectricCar('Chevrolet', 'Bolt EV', 2023)\n",
    "print(my_ev.get_descriptive_name())"
   ]
  },
  {
   "cell_type": "markdown",
   "id": "396792aa",
   "metadata": {},
   "source": [
    "Or the whole module (note we now have to refer to our classes as eg. cars.Car)"
   ]
  },
  {
   "cell_type": "code",
   "execution_count": 1,
   "id": "ffc2702e",
   "metadata": {},
   "outputs": [
    {
     "name": "stdout",
     "output_type": "stream",
     "text": [
      "2019 Audi A4\n",
      "2023 Chevrolet Bolt Ev\n"
     ]
    }
   ],
   "source": [
    "import cars\n",
    "\n",
    "my_car = cars.Car('audi', 'a4', 2019)\n",
    "print(my_car.get_descriptive_name())\n",
    "my_ev = cars.ElectricCar('Chevrolet', 'Bolt EV', 2023)\n",
    "print(my_ev.get_descriptive_name())"
   ]
  },
  {
   "cell_type": "markdown",
   "id": "a3762da6",
   "metadata": {},
   "source": [
    "Or all the classes from our module. This is not a recommended method, since it makes it unclear which classes your program is using, and if you accidentally import a class with the same name as something else in your program file and don't realise what you've done you are going to create an absolute nightmare for yourself. If you want every class in a module you're better off using the above method and just using the <em>module_name.Classname</em> syntax for clarity."
   ]
  },
  {
   "cell_type": "code",
   "execution_count": 2,
   "id": "88981d06",
   "metadata": {},
   "outputs": [
    {
     "name": "stdout",
     "output_type": "stream",
     "text": [
      "2019 Audi A4\n",
      "2023 Chevrolet Bolt Ev\n"
     ]
    }
   ],
   "source": [
    "from cars import *\n",
    "\n",
    "my_car = Car('audi', 'a4', 2019)\n",
    "print(my_car.get_descriptive_name())\n",
    "my_ev = ElectricCar('Chevrolet', 'Bolt EV', 2023)\n",
    "print(my_ev.get_descriptive_name())"
   ]
  },
  {
   "cell_type": "markdown",
   "id": "ce382433",
   "metadata": {},
   "source": [
    "We may want to spread our classes out over multiple modules, and we may need to if we want to avoid storing unrelated classed in the same module. This can mean we need to import one module into another. The electric_car.py file imports the car.py file. We can now import from each module separately and create whatever kind of car we need."
   ]
  },
  {
   "cell_type": "code",
   "execution_count": 1,
   "id": "3cfac33d",
   "metadata": {},
   "outputs": [
    {
     "name": "stdout",
     "output_type": "stream",
     "text": [
      "2019 Audi A4\n",
      "2023 Chevrolet Bolt Ev\n"
     ]
    }
   ],
   "source": [
    "from car import Car\n",
    "from electric_car import ElectricCar\n",
    "\n",
    "my_car = Car('audi', 'a4', 2019)\n",
    "print(my_car.get_descriptive_name())\n",
    "my_ev = ElectricCar('Chevrolet', 'Bolt EV', 2023)\n",
    "print(my_ev.get_descriptive_name())"
   ]
  },
  {
   "cell_type": "markdown",
   "id": "a5d8d026",
   "metadata": {},
   "source": [
    "and finally we can use aliases when we import our classes to make things nice and easy for us"
   ]
  },
  {
   "cell_type": "code",
   "execution_count": 2,
   "id": "712a5fad",
   "metadata": {},
   "outputs": [
    {
     "name": "stdout",
     "output_type": "stream",
     "text": [
      "2023 Chevrolet Bolt Ev\n"
     ]
    }
   ],
   "source": [
    "from electric_car import ElectricCar as EC\n",
    "\n",
    "my_ev = EC('Chevrolet', 'Bolt EV', 2023)\n",
    "print(my_ev.get_descriptive_name())"
   ]
  },
  {
   "cell_type": "markdown",
   "id": "7b67bcfd",
   "metadata": {},
   "source": [
    "## Styling Classes\n",
    "\n",
    "To finish let's talk quickly about how you should style your classes. Class names should be written in <em>CamelCase</em> where we capitalise the first letter of each word, no underscores please. We write instance and module names in lowercase with underscores between them. \n",
    "\n",
    "Every class should have a short docstring immediately following the class definition giving a brief description of what the class does.\n",
    "\n",
    "Each module should have a docstring right at the top describing what classes it contains and what they can be used for.\n",
    "\n",
    "Within a class we can use a single blank line to separate methods, and within a module we can use a two blank lines to separate classes.\n",
    "\n",
    "When we import modules from both the standard library and one that we've written we place the import statement for the standard library module first, then add a blank line, and then the import statement for the module you wrote. This convention is here to make it easier to see where different modules in a program with multiple import statements come from."
   ]
  }
 ],
 "metadata": {
  "kernelspec": {
   "display_name": "Python 3 (ipykernel)",
   "language": "python",
   "name": "python3"
  },
  "language_info": {
   "codemirror_mode": {
    "name": "ipython",
    "version": 3
   },
   "file_extension": ".py",
   "mimetype": "text/x-python",
   "name": "python",
   "nbconvert_exporter": "python",
   "pygments_lexer": "ipython3",
   "version": "3.9.13"
  }
 },
 "nbformat": 4,
 "nbformat_minor": 5
}
